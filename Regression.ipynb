{
  "nbformat": 4,
  "nbformat_minor": 0,
  "metadata": {
    "colab": {
      "private_outputs": true,
      "provenance": [],
      "include_colab_link": true
    },
    "kernelspec": {
      "name": "python3",
      "display_name": "Python 3"
    },
    "language_info": {
      "name": "python"
    }
  },
  "cells": [
    {
      "cell_type": "markdown",
      "metadata": {
        "id": "view-in-github",
        "colab_type": "text"
      },
      "source": [
        "<a href=\"https://colab.research.google.com/github/TabassumPatel4458/Regression/blob/main/Regression.ipynb\" target=\"_parent\"><img src=\"https://colab.research.google.com/assets/colab-badge.svg\" alt=\"Open In Colab\"/></a>"
      ]
    },
    {
      "cell_type": "markdown",
      "source": [
        "# **Problem Statement :**"
      ],
      "metadata": {
        "id": "0dpimgyQKtim"
      }
    },
    {
      "cell_type": "markdown",
      "source": [
        "## Currently Rental bikes are introduced in many urban cities for the enhancement of mobility comfort. It is important to make the rental bike available and accessible to the public at the right time as it lessens the waiting time. Eventually, providing the city with a stable supply of rental bikes becomes a major concern. The crucial part is the prediction of bike count required at each hour for the stable supply of rental bikes."
      ],
      "metadata": {
        "id": "fQT1CVm7Kkj4"
      }
    },
    {
      "cell_type": "code",
      "execution_count": null,
      "metadata": {
        "id": "hXBwljI_KOII"
      },
      "outputs": [],
      "source": [
        "# Import Libraries\n",
        "import pandas as pd\n",
        "import numpy as np\n",
        "import matplotlib.pyplot as plt\n",
        "import seaborn as sns\n",
        "from statsmodels.stats.outliers_influence import variance_inflation_factor\n",
        "from scipy.stats import skew\n",
        "%matplotlib inline\n",
        "\n",
        "from datetime import datetime\n",
        "import datetime as dt\n",
        "\n",
        "from sklearn.preprocessing import MinMaxScaler\n",
        "from sklearn.preprocessing import StandardScaler\n",
        "from sklearn.preprocessing import OneHotEncoder\n",
        "from sklearn.preprocessing import MultiLabelBinarizer\n",
        "\n",
        "from sklearn.linear_model import LinearRegression\n",
        "from sklearn.linear_model import Lasso\n",
        "from sklearn.linear_model import Ridge\n",
        "from sklearn.linear_model import ElasticNet\n",
        "from sklearn.tree import DecisionTreeRegressor\n",
        "from sklearn.ensemble import RandomForestRegressor\n",
        "from sklearn.ensemble import GradientBoostingRegressor\n",
        "\n",
        "from sklearn.model_selection import cross_validate\n",
        "from sklearn.model_selection import train_test_split\n",
        "from sklearn.model_selection import GridSearchCV\n",
        "from sklearn.model_selection import cross_val_score\n",
        "from sklearn.model_selection import RepeatedStratifiedKFold\n",
        "from sklearn.model_selection import RandomizedSearchCV\n",
        "\n",
        "from sklearn import metrics\n",
        "from sklearn.metrics import r2_score\n",
        "from sklearn.metrics import mean_squared_error\n",
        "from sklearn.metrics import accuracy_score\n",
        "from sklearn.metrics import mean_absolute_error\n",
        "from sklearn.metrics import log_loss\n",
        "\n",
        "import warnings\n",
        "warnings.filterwarnings('ignore')"
      ]
    },
    {
      "cell_type": "markdown",
      "source": [
        "# **Dataset Loading :**"
      ],
      "metadata": {
        "id": "5P9UQ8OTQno4"
      }
    },
    {
      "cell_type": "code",
      "source": [
        "# Load Dataset\n",
        "from google.colab import drive\n",
        "drive.mount('/content/drive')"
      ],
      "metadata": {
        "id": "wx-MvcQgLz5D"
      },
      "execution_count": null,
      "outputs": []
    },
    {
      "cell_type": "markdown",
      "source": [
        "# **Dataset First View :**"
      ],
      "metadata": {
        "id": "YucK5gmiQXTU"
      }
    },
    {
      "cell_type": "code",
      "source": [
        "# Dataset First Look\n",
        "bike_sharing_df = pd.read_csv('/content/SeoulBikeData.csv',encoding='unicode_escape')\n",
        "bike_sharing_df=pd.read_csv('/content/SeoulBikeData.csv',encoding='unicode_escape')\n",
        "\n",
        "df1 =bike_sharing_df.copy()"
      ],
      "metadata": {
        "id": "x8KYWE8eNNTH"
      },
      "execution_count": null,
      "outputs": []
    },
    {
      "cell_type": "code",
      "source": [
        "#First 5 observations\n",
        "bike_sharing_df.head()"
      ],
      "metadata": {
        "id": "JXXm9tkSPxZQ"
      },
      "execution_count": null,
      "outputs": []
    },
    {
      "cell_type": "code",
      "source": [
        "#Last 5 observations\n",
        "bike_sharing_df.tail()"
      ],
      "metadata": {
        "id": "qh721pq9PzMi"
      },
      "execution_count": null,
      "outputs": []
    },
    {
      "cell_type": "markdown",
      "source": [
        "# **Dataset Rows & Columns count :**"
      ],
      "metadata": {
        "id": "tI4XYjzsQ_Wq"
      }
    },
    {
      "cell_type": "code",
      "source": [
        "# Dataset Rows & Columns count\n",
        "bike_sharing_df.shape"
      ],
      "metadata": {
        "id": "KpFUsw-aRC-F"
      },
      "execution_count": null,
      "outputs": []
    },
    {
      "cell_type": "code",
      "source": [
        "#Getting all the columns\n",
        "print(\"Features of the dataset:\")\n",
        "df1.columns"
      ],
      "metadata": {
        "id": "0-oXjQalRHBG"
      },
      "execution_count": null,
      "outputs": []
    },
    {
      "cell_type": "markdown",
      "source": [
        "# **Dataset Information :**"
      ],
      "metadata": {
        "id": "ud47IFcgRKPG"
      }
    },
    {
      "cell_type": "code",
      "source": [
        "# Dataset Info\n",
        "df1.info()"
      ],
      "metadata": {
        "id": "hwl_wuaqP8qQ"
      },
      "execution_count": null,
      "outputs": []
    },
    {
      "cell_type": "code",
      "source": [
        "#print the unique value\n",
        "df1.nunique()"
      ],
      "metadata": {
        "id": "6TUzbsXJQBiA"
      },
      "execution_count": null,
      "outputs": []
    },
    {
      "cell_type": "code",
      "source": [
        "#Looking for the description of the dataset to get insights of the data\n",
        "df1.describe().T"
      ],
      "metadata": {
        "id": "x3PwClpXQE0x"
      },
      "execution_count": null,
      "outputs": []
    },
    {
      "cell_type": "markdown",
      "source": [
        "\n",
        "\n",
        "*  **This Dataset contains 8760 lines and 14 columns.**\n",
        "\n",
        "* **In a day we have 24 hours and we have 365 days a year so 365 multiplied by 24 = 8760, which represents the number of line in the dataset.**\n",
        "\n"
      ],
      "metadata": {
        "id": "-_VF5KBZRTOt"
      }
    },
    {
      "cell_type": "markdown",
      "source": [
        "# **Features description :**"
      ],
      "metadata": {
        "id": "IPuOPU6wSvQi"
      }
    },
    {
      "cell_type": "markdown",
      "source": [
        "**Breakdown of Our Features:**\n",
        "\n",
        "**Date :** The date of the day, during 365 days from 01/12/2017 to 30/11/2018, formating in DD/MM/YYYY, type : str, we need to convert into datetime format.\n",
        "\n",
        "**Rented Bike Count :** Number of rented bikes per hour which our dependent variable and we need to predict that, type : int\n",
        "\n",
        "**Hour:** The hour of the day, starting from 0-23 it's in a digital time format, type : int, we need to convert it into category data type.\n",
        "\n",
        "**Temperature(°C):** Temperature in Celsius, type : Float\n",
        "\n",
        "**Humidity(%):** Humidity in the air in %, type : int\n",
        "\n",
        "**Wind speed (m/s) :** Speed of the wind in m/s, type : Float\n",
        "\n",
        "**Visibility (10m):**  Visibility in m, type : int\n",
        "\n",
        "**Dew point temperature(°C): **Temperature at the beggining of the day, type : Float\n",
        "\n",
        "**Solar Radiation (MJ/m2):** Sun contribution, type : Float\n",
        "\n",
        "**Rainfall(mm):** Amount of raining in mm, type : Float\n",
        "\n",
        "**Snowfall (cm):** Amount of snowing in cm, type : Float\n",
        "\n",
        "**Seasons:** *Season of the year, type : str, there are only 4 season's in data *.\n",
        "\n",
        "**Holiday:** If the day is holiday period or not, type: str\n",
        "\n",
        "**Functioning Day:** If the day is a Functioning Day or not, type : str"
      ],
      "metadata": {
        "id": "Yoh3u18kS3HB"
      }
    },
    {
      "cell_type": "markdown",
      "source": [
        "# What did you know about your dataset?"
      ],
      "metadata": {
        "id": "kJBo1V0qTZLk"
      }
    },
    {
      "cell_type": "markdown",
      "source": [
        " The dataset contains weather information (Temperature, Humidity, Windspeed, Visibility, Dewpoint, Solar radiation, Snowfall, Rainfall), the number of bikes rented per hour and date information.\n",
        "\n",
        "# Attribute Information:\n",
        "Date : year-month-day\n",
        "\n",
        "Rented Bike count - Count of bikes rented at each hour\n",
        "\n",
        "Hour - Hour of he day\n",
        "\n",
        "Temperature-Temperature in Celsius\n",
        "\n",
        "Humidity - %\n",
        "\n",
        "Windspeed - m/s\n",
        "\n",
        "Visibility - 10m\n",
        "\n",
        "Dew point temperature - Celsius\n",
        "\n",
        "Solar radiation - MJ/m2\n",
        "\n",
        "Rainfall - mm\n",
        "\n",
        "Snowfall - cm\n",
        "\n",
        "Seasons - Winter, Spring, Summer, Autumn\n",
        "\n",
        "Holiday - Holiday/No holiday\n",
        "\n",
        "Functional Day - NoFunc(Non Functional Hours), Fun(Functional hours)"
      ],
      "metadata": {
        "id": "3peKgYsvThLC"
      }
    },
    {
      "cell_type": "markdown",
      "source": [
        "# **Conclusion :**"
      ],
      "metadata": {
        "id": "fzJC9mMuUMcu"
      }
    },
    {
      "cell_type": "markdown",
      "source": [
        "During the time of our analysis, we initially did EDA on all the features of our datset. We first analysed our dependent variable, 'Rented Bike Count' and also transformed it. Next we analysed categorical variable and dropped the variable who had majority of one class, we also analysed numerical variable, found out the correlation, distribution and their relationship with the dependent variable. We also removed some numerical features who had mostly 0 values and hot encoded the categorical variables."
      ],
      "metadata": {
        "id": "lnUArOCqevhx"
      }
    },
    {
      "cell_type": "markdown",
      "source": [
        "# **EDA insights:**\n",
        "\n",
        "1. Most number of bikes are rented in the Summer season and the lowest in the \n",
        "winter season.\n",
        "\n",
        "2. Over 96% of the bikes are rented on days that are considered as No Holiday.\n",
        "\n",
        "3. Most number of bikes are rented in the temperature range of 15 degrees to 30 degrees.\n",
        "\n",
        "4. Most number of bikes are rented when there is no snowfall or rainfall.\n",
        "\n",
        "5. Majority of the bikes are rented for a humidity percentage range of 30 to 70.\n",
        "\n",
        "6. The highest number of bike rentals have been done in the 18th hour, i.e 6pm, and lowest in the 4th hour, i.e 4am.\n",
        "\n",
        "7. Most of the bike rentals have been made when there is high visibility."
      ],
      "metadata": {
        "id": "wuJ-Y_GqexOG"
      }
    },
    {
      "cell_type": "markdown",
      "source": [
        "Next we implemented 7 machine learning algorithms Linear Regression,lasso,ridge,elasticnet,decission tree, Random Forest and XGBoost. We did hyperparameter tuning to improve our model performance. The results of our evaluation are:"
      ],
      "metadata": {
        "id": "MwnJRQc0fRi2"
      }
    },
    {
      "cell_type": "markdown",
      "source": [
        "1. No overfitting is seen.\n",
        "\n",
        "2. Random forest Regressor and Gradient Boosting gridsearchcv gives the highest  R2 score of 99% and 95% recpectively for Train Set and 92% for Test set.\n",
        "\n",
        "3. Feature Importance value for Random Forest and Gradient Boost are different.\n",
        "\n",
        "4.  We can deploy this model.\n",
        "\n",
        "# Results from ML models:\n",
        "\n",
        "1. Random Forest Regression is the best performing model with an r2 score of 0.6645.\n",
        "\n",
        "2. Lasso Regression(Lion visualisation is done for all the 4 models.\n",
        "\n",
        "3. All 4 models have been explained with the help of SHAP library.\n",
        "\n",
        "4. Temperature and Hour are the two most important factors according to all the models.\n",
        "\n",
        "However, this is not the ultimate end. As this data is time dependent, the values for variables like temperature, windspeed, solar radiation etc., will not always be consistent. Therefore, there will be scenarios where the model might not perform well. As Machine learning is an exponentially evolving field, we will have to be prepared for all contingencies and also keep checking our model from time to time. Therefore, having a quality knowledge and keeping pace with the ever evolving ML field would surely help one to stay a step ahead in future.\n",
        "\n",
        "# Challenges faced:\n",
        "\n",
        "1. Removing Outliers.\n",
        "\n",
        "2. Encoding the categorical columns.\n",
        " \n",
        "3. Removing Multicollinearity from the dataset.\n",
        "\n",
        "4. Choosing Model explainability technique."
      ],
      "metadata": {
        "id": "be7NiCIzfSqV"
      }
    }
  ]
}